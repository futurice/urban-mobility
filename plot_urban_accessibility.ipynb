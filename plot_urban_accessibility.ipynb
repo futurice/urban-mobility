{
 "cells": [
  {
   "cell_type": "markdown",
   "metadata": {},
   "source": [
    "### This notebook reproduces the urban accessibility map for Munich, from this tutorial:\n",
    "https://towardsdatascience.com/measuring-pedestrian-accessibility-97900f9e4d56\n"
   ]
  },
  {
   "cell_type": "markdown",
   "metadata": {},
   "source": [
    "## Steps\n",
    "* Step 1: get the POIs for Munich, including GPS coordinates  \n",
    "* Step 2: create Pandana network   \n",
    "* Step 3: assign POIs, compute shortest distances\n",
    "* Step 4: plot the shortest distances on the accesibility heatmap  \n"
   ]
  },
  {
   "cell_type": "code",
   "execution_count": 1,
   "metadata": {},
   "outputs": [],
   "source": [
    "# libraries needed\n",
    "import pandas as pd\n",
    "import numpy as np\n",
    "import datetime as dt\n",
    "import time\n",
    "import os\n",
    "\n",
    "import pandana as pdna\n",
    "import geopandas as gpd\n",
    "import osmnx as ox\n",
    "\n",
    "from shapely.geometry.polygon import Polygon\n",
    "from shapely.geometry import box\n",
    "\n",
    "from geopy.geocoders import Nominatim\n",
    "from geopy.extra.rate_limiter import RateLimiter\n",
    "\n",
    "# to display plot in the notebook\n",
    "%matplotlib inline\n"
   ]
  },
  {
   "cell_type": "markdown",
   "metadata": {},
   "source": [
    "## Step 1: get the POIs for Munich"
   ]
  },
  {
   "cell_type": "markdown",
   "metadata": {},
   "source": [
    "Get network map and POIs from the network\n",
    "\n",
    "Use the documentation from here:\n",
    "https://osmnx.readthedocs.io/en/stable/osmnx.html\n"
   ]
  },
  {
   "cell_type": "code",
   "execution_count": 14,
   "metadata": {},
   "outputs": [
    {
     "name": "stdout",
     "output_type": "stream",
     "text": [
      "(11.360777, 48.0616244, 11.7229083, 48.2481162)\n"
     ]
    }
   ],
   "source": [
    "# get a GeoDataFrame from Munich\n",
    "place = ox.gdf_from_place('Munich, Germany')\n",
    "bounds_city = place['geometry'][0].bounds\n",
    "print(bounds_city)\n",
    "# order bounds: 'east','north','south','west'\n",
    "polygon_city = Polygon((list(box(bounds_city[0],bounds_city[1],bounds_city[2],bounds_city[3]).exterior.coords)))"
   ]
  },
  {
   "cell_type": "code",
   "execution_count": 11,
   "metadata": {},
   "outputs": [],
   "source": [
    "# set POIs of interest\n",
    "amenity = 'hospital'#['hospital','cafe','school','pharmacy']#'restaurant','clinic','bank','park',"
   ]
  },
  {
   "cell_type": "code",
   "execution_count": 14,
   "metadata": {},
   "outputs": [
    {
     "name": "stdout",
     "output_type": "stream",
     "text": [
      "Number of POIs\n",
      "157\n",
      "           amenity                                         name\n",
      "60234799  hospital                          Medizinische Klinik\n",
      "60235532  hospital            Mund-, Kiefer-, Gesichtschirurgie\n",
      "60235905  hospital             Dr. von Haunersches Kinderspital\n",
      "60237053  hospital           Poliklinik Zahnärztliche Prothetik\n",
      "60237068  hospital  Poliklinik Zahnerhaltung und Parodontologie\n"
     ]
    }
   ],
   "source": [
    "# get POIs from Polygon\n",
    "pois = ox.pois.pois_from_polygon(polygon_city, [amenity])\n",
    "\n",
    "print('Number of POIs')\n",
    "print(len(pois))\n",
    "print(pois[['amenity','name']].head())\n",
    "# a long list of all the info about the POIs: (maybe useful in the future)\n",
    "# print(list(pois.columns))"
   ]
  },
  {
   "cell_type": "code",
   "execution_count": null,
   "metadata": {},
   "outputs": [],
   "source": [
    "'''\n",
    "# If we want to plot the network:\n",
    "# city graph\n",
    "G = ox.graph_from_address('Munich, Germany')\n",
    "ox.plot_graph(G)\n",
    "'''"
   ]
  },
  {
   "cell_type": "code",
   "execution_count": 29,
   "metadata": {},
   "outputs": [
    {
     "data": {
      "text/plain": [
       "\"\\n# IF we want to plot the POIs on the map:\\nimport matplotlib.pyplot as plt\\nworld = geopandas.read_file(geopandas.datasets.get_path('naturalearth_lowres'))\\n\\n# We restrict to South America.\\nax = world[world.continent == 'Europe'].plot(\\n    color='white', edgecolor='black')\\n\\n# We can now plot our ``GeoDataFrame``.\\npois.plot(ax=ax, color='red')\\nplt.show()\\n\""
      ]
     },
     "execution_count": 29,
     "metadata": {},
     "output_type": "execute_result"
    }
   ],
   "source": [
    "\n",
    "'''\n",
    "# IF we want to plot the POIs on the map:\n",
    "import matplotlib.pyplot as plt\n",
    "world = geopandas.read_file(geopandas.datasets.get_path('naturalearth_lowres'))\n",
    "\n",
    "# We restrict to South America.\n",
    "ax = world[world.continent == 'Europe'].plot(\n",
    "    color='white', edgecolor='black')\n",
    "\n",
    "# We can now plot our ``GeoDataFrame``.\n",
    "pois.plot(ax=ax, color='red')\n",
    "plt.show()\n",
    "'''"
   ]
  },
  {
   "cell_type": "markdown",
   "metadata": {},
   "source": [
    "Now we need to transform the addresses in GPS coordinates, because they are not available in the POIs data frame"
   ]
  },
  {
   "cell_type": "markdown",
   "metadata": {},
   "source": [
    "### First test geocoding works with Nominatim (number of requests is limited)\n",
    "If the next cell fails, a geocoding alternative to extract the coordinates from POI names may be needed.\n",
    "A list of alternatives is here: https://wiki.openstreetmap.org/wiki/Search_engines  \n",
    "Failed attempts (adddresses not recognized): \n",
    "* use Nominatim rate_limiter.RateLimiter to introduce delays and retries \n",
    "* geocoder Python: https://geocoder.readthedocs.io/  \n",
    "* overpass API: https://wiki.openstreetmap.org/wiki/Overpass_API/Python_Wrapper  \n",
    "Code not working on POI addersses   \n",
    "import overpass  \n",
    "api = overpass.API()  \n",
    "response = api.get('node[\"name\"=\"6 Gartenstadtstraße München DE\"]')  \n",
    "response['features'][0]['geometry']['coordinates'][0]  \n",
    "  \n",
    "Working but need to call from Python:  \n",
    "* http://photon.komoot.de/  \n",
    "* https://www.ideeslibres.org/GeoCheck/  "
   ]
  },
  {
   "cell_type": "code",
   "execution_count": 15,
   "metadata": {},
   "outputs": [
    {
     "name": "stdout",
     "output_type": "stream",
     "text": [
      "(48.1169479, 11.6702206)\n"
     ]
    }
   ],
   "source": [
    "# basic test we can encode a location by address:\n",
    "geolocator = Nominatim(user_agent=\"y\")\n",
    "location = geolocator.geocode(\"6 Gartenstadtstraße München DE\")\n",
    "print((location.latitude, location.longitude))"
   ]
  },
  {
   "cell_type": "code",
   "execution_count": 16,
   "metadata": {},
   "outputs": [
    {
     "name": "stdout",
     "output_type": "stream",
     "text": [
      "time geocoding\n",
      "0.058594703674316406\n",
      "                                          name        lat        lon  \\\n",
      "0                          Medizinische Klinik  48.132249  11.561818   \n",
      "1            Mund-, Kiefer-, Gesichtschirurgie  48.131001  11.560525   \n",
      "2             Dr. von Haunersches Kinderspital  48.130282  11.559205   \n",
      "3           Poliklinik Zahnärztliche Prothetik  48.131329  11.558192   \n",
      "4  Poliklinik Zahnerhaltung und Parodontologie  48.131329  11.558192   \n",
      "\n",
      "               complete address  \n",
      "0   1 Ziemssenstraße München DE  \n",
      "1  2a Lindwurmstraße München DE  \n",
      "2   4 Lindwurmstraße München DE  \n",
      "3    70 Goethestraße München DE  \n",
      "4    70 Goethestraße München DE  \n"
     ]
    }
   ],
   "source": [
    "t1 = time.time()\n",
    "\n",
    "pois['complete address'] = pois['addr:housenumber'] + ' ' + pois['addr:street'] + ' ' + pois['addr:city'] + ' ' + pois['addr:country']\n",
    "\n",
    "# this takes long for all POIs (several minutes or more) (alternatively take less POIS\n",
    "# limited to first 100 points for now\n",
    "pois_test = pois.reset_index().copy()\n",
    "def fct(x):\n",
    "    try:\n",
    "        location = geolocator.geocode(x)\n",
    "    except:\n",
    "        return np.nan\n",
    "    return location\n",
    "t2 = time.time()\n",
    "pois_test['loc'] = pois_test['complete address'].apply(lambda x: fct(x))\n",
    "print('time geocoding')\n",
    "print(t2-t1)\n",
    "pois_test = pois_test.dropna(subset=['loc']).reset_index()\n",
    "# extract coordinates\n",
    "pois_test['lat'] = pois_test['loc'].apply(lambda x:x.latitude)\n",
    "pois_test['lon'] = pois_test['loc'].apply(lambda x:x.longitude)\n",
    "pois_test.loc[pois_test['complete address'].isnull(),'lat'] = np.NaN\n",
    "pois_test.loc[pois_test['complete address'].isnull(),'lon'] = np.NaN\n",
    "pois_test = pois_test[['name','lat','lon','complete address']].dropna()\n",
    "print(pois_test.head())\n",
    "\n",
    "# always cache geocoded addresses because there a limit per day: \n",
    "if not os.path.exists('pois_coord'):\n",
    "    os.makedirs('pois_coord')\n",
    "pois_test.to_pickle('pois_coord/' + amenity + '_' + str(dt.datetime.now()).replace(':','').replace(' ','-').replace('.','-') + '.pkl')"
   ]
  },
  {
   "cell_type": "code",
   "execution_count": 120,
   "metadata": {},
   "outputs": [],
   "source": []
  },
  {
   "cell_type": "code",
   "execution_count": 17,
   "metadata": {},
   "outputs": [
    {
     "data": {
      "text/html": [
       "<div>\n",
       "<style scoped>\n",
       "    .dataframe tbody tr th:only-of-type {\n",
       "        vertical-align: middle;\n",
       "    }\n",
       "\n",
       "    .dataframe tbody tr th {\n",
       "        vertical-align: top;\n",
       "    }\n",
       "\n",
       "    .dataframe thead th {\n",
       "        text-align: right;\n",
       "    }\n",
       "</style>\n",
       "<table border=\"1\" class=\"dataframe\">\n",
       "  <thead>\n",
       "    <tr style=\"text-align: right;\">\n",
       "      <th></th>\n",
       "      <th>name</th>\n",
       "      <th>lat</th>\n",
       "      <th>lon</th>\n",
       "      <th>complete address</th>\n",
       "    </tr>\n",
       "  </thead>\n",
       "  <tbody>\n",
       "    <tr>\n",
       "      <th>0</th>\n",
       "      <td>Medizinische Klinik</td>\n",
       "      <td>48.132249</td>\n",
       "      <td>11.561818</td>\n",
       "      <td>1 Ziemssenstraße München DE</td>\n",
       "    </tr>\n",
       "    <tr>\n",
       "      <th>1</th>\n",
       "      <td>Mund-, Kiefer-, Gesichtschirurgie</td>\n",
       "      <td>48.131001</td>\n",
       "      <td>11.560525</td>\n",
       "      <td>2a Lindwurmstraße München DE</td>\n",
       "    </tr>\n",
       "    <tr>\n",
       "      <th>2</th>\n",
       "      <td>Dr. von Haunersches Kinderspital</td>\n",
       "      <td>48.130282</td>\n",
       "      <td>11.559205</td>\n",
       "      <td>4 Lindwurmstraße München DE</td>\n",
       "    </tr>\n",
       "    <tr>\n",
       "      <th>3</th>\n",
       "      <td>Poliklinik Zahnärztliche Prothetik</td>\n",
       "      <td>48.131329</td>\n",
       "      <td>11.558192</td>\n",
       "      <td>70 Goethestraße München DE</td>\n",
       "    </tr>\n",
       "    <tr>\n",
       "      <th>4</th>\n",
       "      <td>Poliklinik Zahnerhaltung und Parodontologie</td>\n",
       "      <td>48.131329</td>\n",
       "      <td>11.558192</td>\n",
       "      <td>70 Goethestraße München DE</td>\n",
       "    </tr>\n",
       "  </tbody>\n",
       "</table>\n",
       "</div>"
      ],
      "text/plain": [
       "                                          name        lat        lon  \\\n",
       "0                          Medizinische Klinik  48.132249  11.561818   \n",
       "1            Mund-, Kiefer-, Gesichtschirurgie  48.131001  11.560525   \n",
       "2             Dr. von Haunersches Kinderspital  48.130282  11.559205   \n",
       "3           Poliklinik Zahnärztliche Prothetik  48.131329  11.558192   \n",
       "4  Poliklinik Zahnerhaltung und Parodontologie  48.131329  11.558192   \n",
       "\n",
       "               complete address  \n",
       "0   1 Ziemssenstraße München DE  \n",
       "1  2a Lindwurmstraße München DE  \n",
       "2   4 Lindwurmstraße München DE  \n",
       "3    70 Goethestraße München DE  \n",
       "4    70 Goethestraße München DE  "
      ]
     },
     "execution_count": 17,
     "metadata": {},
     "output_type": "execute_result"
    }
   ],
   "source": [
    "# check coordinates fine:\n",
    "pois_test.head()"
   ]
  },
  {
   "cell_type": "code",
   "execution_count": null,
   "metadata": {},
   "outputs": [],
   "source": []
  },
  {
   "cell_type": "markdown",
   "metadata": {},
   "source": [
    "Keep the POIs for later, next create the Pandana network we want to compute the shortest paths on"
   ]
  },
  {
   "cell_type": "markdown",
   "metadata": {},
   "source": [
    "## Step 2: create Pandana network, assign POIs, compute shortest distances"
   ]
  },
  {
   "cell_type": "markdown",
   "metadata": {},
   "source": [
    "Create Pandana network, precomute, initiatilize, set POIs and calculate nearest POIs as in the tutorial:\n",
    "https://udst.github.io/pandana/tutorial.html\n",
    "\n",
    "First need to transform the nodes and edges from the shapefile to match the Pandana format: \n",
    "* extract x,y columns for coordinates\n",
    "* extract weight column of edges\n",
    "* make the nodes index int, from the osmid, by reseting the index of nodes and merging\n"
   ]
  },
  {
   "cell_type": "markdown",
   "metadata": {},
   "source": [
    "### only run the next cell if no shape file already available"
   ]
  },
  {
   "cell_type": "code",
   "execution_count": 50,
   "metadata": {},
   "outputs": [
    {
     "ename": "KeyboardInterrupt",
     "evalue": "",
     "output_type": "error",
     "traceback": [
      "\u001b[1;31m---------------------------------------------------------------------------\u001b[0m",
      "\u001b[1;31mAttributeError\u001b[0m                            Traceback (most recent call last)",
      "\u001b[1;32mc:\\users\\mraf\\anaconda3\\envs\\tensorflow\\lib\\site-packages\\shapely\\speedups\\_speedups.pyx\u001b[0m in \u001b[0;36mshapely.speedups._speedups.geos_linestring_from_py\u001b[1;34m()\u001b[0m\n",
      "\u001b[1;31mAttributeError\u001b[0m: 'list' object has no attribute '__array_interface__'",
      "\nDuring handling of the above exception, another exception occurred:\n",
      "\u001b[1;31mKeyboardInterrupt\u001b[0m                         Traceback (most recent call last)",
      "\u001b[1;32m<ipython-input-50-9029bcd645e6>\u001b[0m in \u001b[0;36m<module>\u001b[1;34m()\u001b[0m\n\u001b[0;32m      4\u001b[0m \u001b[1;33m\u001b[0m\u001b[0m\n\u001b[0;32m      5\u001b[0m \u001b[1;31m# this takes long! several minutes or longer\u001b[0m\u001b[1;33m\u001b[0m\u001b[1;33m\u001b[0m\u001b[0m\n\u001b[1;32m----> 6\u001b[1;33m \u001b[0mG\u001b[0m \u001b[1;33m=\u001b[0m \u001b[0mox\u001b[0m\u001b[1;33m.\u001b[0m\u001b[0mgraph_from_bbox\u001b[0m\u001b[1;33m(\u001b[0m\u001b[0mbounds_city\u001b[0m\u001b[1;33m[\u001b[0m\u001b[1;36m3\u001b[0m\u001b[1;33m]\u001b[0m\u001b[1;33m,\u001b[0m \u001b[0mbounds_city\u001b[0m\u001b[1;33m[\u001b[0m\u001b[1;36m1\u001b[0m\u001b[1;33m]\u001b[0m\u001b[1;33m,\u001b[0m \u001b[0mbounds_city\u001b[0m\u001b[1;33m[\u001b[0m\u001b[1;36m2\u001b[0m\u001b[1;33m]\u001b[0m\u001b[1;33m,\u001b[0m \u001b[0mbounds_city\u001b[0m\u001b[1;33m[\u001b[0m\u001b[1;36m0\u001b[0m\u001b[1;33m]\u001b[0m\u001b[1;33m,\u001b[0m \u001b[0mnetwork_type\u001b[0m\u001b[1;33m=\u001b[0m\u001b[1;34m'walk'\u001b[0m\u001b[1;33m)\u001b[0m\u001b[1;33m\u001b[0m\u001b[0m\n\u001b[0m\u001b[0;32m      7\u001b[0m \u001b[1;31m# get road network and save as .shp\u001b[0m\u001b[1;33m\u001b[0m\u001b[1;33m\u001b[0m\u001b[0m\n\u001b[0;32m      8\u001b[0m \u001b[0mox\u001b[0m\u001b[1;33m.\u001b[0m\u001b[0msave_graph_shapefile\u001b[0m\u001b[1;33m(\u001b[0m\u001b[0mG\u001b[0m\u001b[1;33m,\u001b[0m \u001b[0mfilename\u001b[0m\u001b[1;33m=\u001b[0m\u001b[1;34m'sample'\u001b[0m\u001b[1;33m,\u001b[0m \u001b[0mfolder\u001b[0m\u001b[1;33m=\u001b[0m\u001b[1;34m'data'\u001b[0m\u001b[1;33m,\u001b[0m \u001b[0mencoding\u001b[0m\u001b[1;33m=\u001b[0m\u001b[1;34m'utf-8'\u001b[0m\u001b[1;33m)\u001b[0m\u001b[1;33m\u001b[0m\u001b[0m\n",
      "\u001b[1;32mc:\\users\\mraf\\anaconda3\\envs\\tensorflow\\lib\\site-packages\\osmnx\\core.py\u001b[0m in \u001b[0;36mgraph_from_bbox\u001b[1;34m(north, south, east, west, network_type, simplify, retain_all, truncate_by_edge, name, timeout, memory, max_query_area_size, clean_periphery, infrastructure, custom_filter)\u001b[0m\n\u001b[0;32m   1487\u001b[0m \u001b[1;33m\u001b[0m\u001b[0m\n\u001b[0;32m   1488\u001b[0m         \u001b[1;31m# simplify the graph topology\u001b[0m\u001b[1;33m\u001b[0m\u001b[1;33m\u001b[0m\u001b[0m\n\u001b[1;32m-> 1489\u001b[1;33m         \u001b[0mG_buffered\u001b[0m \u001b[1;33m=\u001b[0m \u001b[0msimplify_graph\u001b[0m\u001b[1;33m(\u001b[0m\u001b[0mG_buffered\u001b[0m\u001b[1;33m)\u001b[0m\u001b[1;33m\u001b[0m\u001b[0m\n\u001b[0m\u001b[0;32m   1490\u001b[0m \u001b[1;33m\u001b[0m\u001b[0m\n\u001b[0;32m   1491\u001b[0m         \u001b[1;31m# truncate graph by desired bbox to return the graph within the bbox\u001b[0m\u001b[1;33m\u001b[0m\u001b[1;33m\u001b[0m\u001b[0m\n",
      "\u001b[1;32mc:\\users\\mraf\\anaconda3\\envs\\tensorflow\\lib\\site-packages\\osmnx\\simplify.py\u001b[0m in \u001b[0;36msimplify_graph\u001b[1;34m(G, strict)\u001b[0m\n\u001b[0;32m    276\u001b[0m \u001b[1;33m\u001b[0m\u001b[0m\n\u001b[0;32m    277\u001b[0m         \u001b[1;31m# construct the geometry and sum the lengths of the segments\u001b[0m\u001b[1;33m\u001b[0m\u001b[1;33m\u001b[0m\u001b[0m\n\u001b[1;32m--> 278\u001b[1;33m         \u001b[0medge_attributes\u001b[0m\u001b[1;33m[\u001b[0m\u001b[1;34m'geometry'\u001b[0m\u001b[1;33m]\u001b[0m \u001b[1;33m=\u001b[0m \u001b[0mLineString\u001b[0m\u001b[1;33m(\u001b[0m\u001b[1;33m[\u001b[0m\u001b[0mPoint\u001b[0m\u001b[1;33m(\u001b[0m\u001b[1;33m(\u001b[0m\u001b[0mG\u001b[0m\u001b[1;33m.\u001b[0m\u001b[0mnodes\u001b[0m\u001b[1;33m[\u001b[0m\u001b[0mnode\u001b[0m\u001b[1;33m]\u001b[0m\u001b[1;33m[\u001b[0m\u001b[1;34m'x'\u001b[0m\u001b[1;33m]\u001b[0m\u001b[1;33m,\u001b[0m \u001b[0mG\u001b[0m\u001b[1;33m.\u001b[0m\u001b[0mnodes\u001b[0m\u001b[1;33m[\u001b[0m\u001b[0mnode\u001b[0m\u001b[1;33m]\u001b[0m\u001b[1;33m[\u001b[0m\u001b[1;34m'y'\u001b[0m\u001b[1;33m]\u001b[0m\u001b[1;33m)\u001b[0m\u001b[1;33m)\u001b[0m \u001b[1;32mfor\u001b[0m \u001b[0mnode\u001b[0m \u001b[1;32min\u001b[0m \u001b[0mpath\u001b[0m\u001b[1;33m]\u001b[0m\u001b[1;33m)\u001b[0m\u001b[1;33m\u001b[0m\u001b[0m\n\u001b[0m\u001b[0;32m    279\u001b[0m         \u001b[0medge_attributes\u001b[0m\u001b[1;33m[\u001b[0m\u001b[1;34m'length'\u001b[0m\u001b[1;33m]\u001b[0m \u001b[1;33m=\u001b[0m \u001b[0msum\u001b[0m\u001b[1;33m(\u001b[0m\u001b[0medge_attributes\u001b[0m\u001b[1;33m[\u001b[0m\u001b[1;34m'length'\u001b[0m\u001b[1;33m]\u001b[0m\u001b[1;33m)\u001b[0m\u001b[1;33m\u001b[0m\u001b[0m\n\u001b[0;32m    280\u001b[0m \u001b[1;33m\u001b[0m\u001b[0m\n",
      "\u001b[1;32mc:\\users\\mraf\\anaconda3\\envs\\tensorflow\\lib\\site-packages\\shapely\\geometry\\linestring.py\u001b[0m in \u001b[0;36m__init__\u001b[1;34m(self, coordinates)\u001b[0m\n\u001b[0;32m     46\u001b[0m         \u001b[0mBaseGeometry\u001b[0m\u001b[1;33m.\u001b[0m\u001b[0m__init__\u001b[0m\u001b[1;33m(\u001b[0m\u001b[0mself\u001b[0m\u001b[1;33m)\u001b[0m\u001b[1;33m\u001b[0m\u001b[0m\n\u001b[0;32m     47\u001b[0m         \u001b[1;32mif\u001b[0m \u001b[0mcoordinates\u001b[0m \u001b[1;32mis\u001b[0m \u001b[1;32mnot\u001b[0m \u001b[1;32mNone\u001b[0m\u001b[1;33m:\u001b[0m\u001b[1;33m\u001b[0m\u001b[0m\n\u001b[1;32m---> 48\u001b[1;33m             \u001b[0mself\u001b[0m\u001b[1;33m.\u001b[0m\u001b[0m_set_coords\u001b[0m\u001b[1;33m(\u001b[0m\u001b[0mcoordinates\u001b[0m\u001b[1;33m)\u001b[0m\u001b[1;33m\u001b[0m\u001b[0m\n\u001b[0m\u001b[0;32m     49\u001b[0m \u001b[1;33m\u001b[0m\u001b[0m\n\u001b[0;32m     50\u001b[0m     \u001b[1;33m@\u001b[0m\u001b[0mproperty\u001b[0m\u001b[1;33m\u001b[0m\u001b[0m\n",
      "\u001b[1;32mc:\\users\\mraf\\anaconda3\\envs\\tensorflow\\lib\\site-packages\\shapely\\geometry\\linestring.py\u001b[0m in \u001b[0;36m_set_coords\u001b[1;34m(self, coordinates)\u001b[0m\n\u001b[0;32m     95\u001b[0m     \u001b[1;32mdef\u001b[0m \u001b[0m_set_coords\u001b[0m\u001b[1;33m(\u001b[0m\u001b[0mself\u001b[0m\u001b[1;33m,\u001b[0m \u001b[0mcoordinates\u001b[0m\u001b[1;33m)\u001b[0m\u001b[1;33m:\u001b[0m\u001b[1;33m\u001b[0m\u001b[0m\n\u001b[0;32m     96\u001b[0m         \u001b[0mself\u001b[0m\u001b[1;33m.\u001b[0m\u001b[0mempty\u001b[0m\u001b[1;33m(\u001b[0m\u001b[1;33m)\u001b[0m\u001b[1;33m\u001b[0m\u001b[0m\n\u001b[1;32m---> 97\u001b[1;33m         \u001b[0mret\u001b[0m \u001b[1;33m=\u001b[0m \u001b[0mgeos_linestring_from_py\u001b[0m\u001b[1;33m(\u001b[0m\u001b[0mcoordinates\u001b[0m\u001b[1;33m)\u001b[0m\u001b[1;33m\u001b[0m\u001b[0m\n\u001b[0m\u001b[0;32m     98\u001b[0m         \u001b[1;32mif\u001b[0m \u001b[0mret\u001b[0m \u001b[1;32mis\u001b[0m \u001b[1;32mnot\u001b[0m \u001b[1;32mNone\u001b[0m\u001b[1;33m:\u001b[0m\u001b[1;33m\u001b[0m\u001b[0m\n\u001b[0;32m     99\u001b[0m             \u001b[0mself\u001b[0m\u001b[1;33m.\u001b[0m\u001b[0m_geom\u001b[0m\u001b[1;33m,\u001b[0m \u001b[0mself\u001b[0m\u001b[1;33m.\u001b[0m\u001b[0m_ndim\u001b[0m \u001b[1;33m=\u001b[0m \u001b[0mret\u001b[0m\u001b[1;33m\u001b[0m\u001b[0m\n",
      "\u001b[1;32mc:\\users\\mraf\\anaconda3\\envs\\tensorflow\\lib\\site-packages\\shapely\\speedups\\_speedups.pyx\u001b[0m in \u001b[0;36mshapely.speedups._speedups.geos_linestring_from_py\u001b[1;34m()\u001b[0m\n",
      "\u001b[1;32mc:\\users\\mraf\\anaconda3\\envs\\tensorflow\\lib\\site-packages\\shapely\\speedups\\_speedups.pyx\u001b[0m in \u001b[0;36mshapely.speedups._speedups.geos_linestring_from_py._coords\u001b[1;34m()\u001b[0m\n",
      "\u001b[1;32mc:\\users\\mraf\\anaconda3\\envs\\tensorflow\\lib\\site-packages\\shapely\\coords.py\u001b[0m in \u001b[0;36m__getitem__\u001b[1;34m(self, key)\u001b[0m\n\u001b[0;32m     68\u001b[0m \u001b[1;33m\u001b[0m\u001b[0m\n\u001b[0;32m     69\u001b[0m     \u001b[1;32mdef\u001b[0m \u001b[0m__getitem__\u001b[0m\u001b[1;33m(\u001b[0m\u001b[0mself\u001b[0m\u001b[1;33m,\u001b[0m \u001b[0mkey\u001b[0m\u001b[1;33m)\u001b[0m\u001b[1;33m:\u001b[0m\u001b[1;33m\u001b[0m\u001b[0m\n\u001b[1;32m---> 70\u001b[1;33m         \u001b[0mself\u001b[0m\u001b[1;33m.\u001b[0m\u001b[0m_update\u001b[0m\u001b[1;33m(\u001b[0m\u001b[1;33m)\u001b[0m\u001b[1;33m\u001b[0m\u001b[0m\n\u001b[0m\u001b[0;32m     71\u001b[0m         \u001b[0mdx\u001b[0m \u001b[1;33m=\u001b[0m \u001b[0mc_double\u001b[0m\u001b[1;33m(\u001b[0m\u001b[1;33m)\u001b[0m\u001b[1;33m\u001b[0m\u001b[0m\n\u001b[0;32m     72\u001b[0m         \u001b[0mdy\u001b[0m \u001b[1;33m=\u001b[0m \u001b[0mc_double\u001b[0m\u001b[1;33m(\u001b[0m\u001b[1;33m)\u001b[0m\u001b[1;33m\u001b[0m\u001b[0m\n",
      "\u001b[1;32mc:\\users\\mraf\\anaconda3\\envs\\tensorflow\\lib\\site-packages\\shapely\\coords.py\u001b[0m in \u001b[0;36m_update\u001b[1;34m(self)\u001b[0m\n\u001b[0;32m     44\u001b[0m     \u001b[1;32mdef\u001b[0m \u001b[0m_update\u001b[0m\u001b[1;33m(\u001b[0m\u001b[0mself\u001b[0m\u001b[1;33m)\u001b[0m\u001b[1;33m:\u001b[0m\u001b[1;33m\u001b[0m\u001b[0m\n\u001b[0;32m     45\u001b[0m         \u001b[0mself\u001b[0m\u001b[1;33m.\u001b[0m\u001b[0m_ndim\u001b[0m \u001b[1;33m=\u001b[0m \u001b[0mself\u001b[0m\u001b[1;33m.\u001b[0m\u001b[0m__p__\u001b[0m\u001b[1;33m.\u001b[0m\u001b[0m_ndim\u001b[0m\u001b[1;33m\u001b[0m\u001b[0m\n\u001b[1;32m---> 46\u001b[1;33m         \u001b[0mself\u001b[0m\u001b[1;33m.\u001b[0m\u001b[0m_cseq\u001b[0m \u001b[1;33m=\u001b[0m \u001b[0mlgeos\u001b[0m\u001b[1;33m.\u001b[0m\u001b[0mGEOSGeom_getCoordSeq\u001b[0m\u001b[1;33m(\u001b[0m\u001b[0mself\u001b[0m\u001b[1;33m.\u001b[0m\u001b[0m__p__\u001b[0m\u001b[1;33m.\u001b[0m\u001b[0m_geom\u001b[0m\u001b[1;33m)\u001b[0m\u001b[1;33m\u001b[0m\u001b[0m\n\u001b[0m\u001b[0;32m     47\u001b[0m \u001b[1;33m\u001b[0m\u001b[0m\n\u001b[0;32m     48\u001b[0m     \u001b[1;32mdef\u001b[0m \u001b[0m__len__\u001b[0m\u001b[1;33m(\u001b[0m\u001b[0mself\u001b[0m\u001b[1;33m)\u001b[0m\u001b[1;33m:\u001b[0m\u001b[1;33m\u001b[0m\u001b[0m\n",
      "\u001b[1;31mKeyboardInterrupt\u001b[0m: "
     ]
    }
   ],
   "source": [
    "# reorder the bounds_city to match the funciton description: \n",
    "# from longitude min, latitude min, longitude max, latitude max to\n",
    "# north, south, east, west\n",
    "\n",
    "# this takes long! several minutes or longer\n",
    "G = ox.graph_from_bbox(bounds_city[3], bounds_city[1], bounds_city[2], bounds_city[0], network_type='walk')\n",
    "# get road network and save as .shp\n",
    "ox.save_graph_shapefile(G, filename='sample', folder='data', encoding='utf-8')"
   ]
  },
  {
   "cell_type": "markdown",
   "metadata": {},
   "source": [
    "### from here on run cells normally"
   ]
  },
  {
   "cell_type": "code",
   "execution_count": 2,
   "metadata": {},
   "outputs": [],
   "source": [
    "nodes = gpd.read_file('data/sample/nodes/nodes.shp')\n",
    "edges = gpd.read_file('data/sample/edges/edges.shp')"
   ]
  },
  {
   "cell_type": "code",
   "execution_count": 3,
   "metadata": {},
   "outputs": [],
   "source": [
    "nodes['x'] = nodes['geometry'].apply(lambda x:x.coords[0][0])\n",
    "nodes['y'] = nodes['geometry'].apply(lambda x:x.coords[0][1])\n",
    "edges['weight'] = edges['length'].astype(float)\n",
    "nodes['x'] = nodes['x'].astype(float)\n",
    "nodes['y'] = nodes['y'].astype(float)"
   ]
  },
  {
   "cell_type": "code",
   "execution_count": 4,
   "metadata": {},
   "outputs": [],
   "source": [
    "nodes['ix']=nodes.index\n",
    "test  = pd.merge(nodes[['osmid','ix']].rename(columns={'osmid':'from','ix':'from_ix'}),edges,on='from')\n",
    "test  = pd.merge(nodes[['osmid','ix']].rename(columns={'osmid':'to','ix':'to_ix'}),test,on='to')"
   ]
  },
  {
   "cell_type": "code",
   "execution_count": 6,
   "metadata": {},
   "outputs": [
    {
     "data": {
      "text/html": [
       "<div>\n",
       "<style scoped>\n",
       "    .dataframe tbody tr th:only-of-type {\n",
       "        vertical-align: middle;\n",
       "    }\n",
       "\n",
       "    .dataframe tbody tr th {\n",
       "        vertical-align: top;\n",
       "    }\n",
       "\n",
       "    .dataframe thead th {\n",
       "        text-align: right;\n",
       "    }\n",
       "</style>\n",
       "<table border=\"1\" class=\"dataframe\">\n",
       "  <thead>\n",
       "    <tr style=\"text-align: right;\">\n",
       "      <th></th>\n",
       "      <th>highway</th>\n",
       "      <th>osmid</th>\n",
       "      <th>ref</th>\n",
       "      <th>geometry</th>\n",
       "      <th>x</th>\n",
       "      <th>y</th>\n",
       "      <th>ix</th>\n",
       "    </tr>\n",
       "  </thead>\n",
       "  <tbody>\n",
       "    <tr>\n",
       "      <th>0</th>\n",
       "      <td>None</td>\n",
       "      <td>1909719042</td>\n",
       "      <td>None</td>\n",
       "      <td>POINT (11.6278848 48.2470903)</td>\n",
       "      <td>11.627885</td>\n",
       "      <td>48.247090</td>\n",
       "      <td>0</td>\n",
       "    </tr>\n",
       "    <tr>\n",
       "      <th>1</th>\n",
       "      <td>None</td>\n",
       "      <td>1909719044</td>\n",
       "      <td>None</td>\n",
       "      <td>POINT (11.6266001 48.2472798)</td>\n",
       "      <td>11.626600</td>\n",
       "      <td>48.247280</td>\n",
       "      <td>1</td>\n",
       "    </tr>\n",
       "    <tr>\n",
       "      <th>2</th>\n",
       "      <td>turning_circle</td>\n",
       "      <td>307757062</td>\n",
       "      <td>None</td>\n",
       "      <td>POINT (11.5525641 48.1912629)</td>\n",
       "      <td>11.552564</td>\n",
       "      <td>48.191263</td>\n",
       "      <td>2</td>\n",
       "    </tr>\n",
       "    <tr>\n",
       "      <th>3</th>\n",
       "      <td>None</td>\n",
       "      <td>307757067</td>\n",
       "      <td>None</td>\n",
       "      <td>POINT (11.5539391 48.1918998)</td>\n",
       "      <td>11.553939</td>\n",
       "      <td>48.191900</td>\n",
       "      <td>3</td>\n",
       "    </tr>\n",
       "    <tr>\n",
       "      <th>4</th>\n",
       "      <td>None</td>\n",
       "      <td>307757071</td>\n",
       "      <td>None</td>\n",
       "      <td>POINT (11.5534609 48.1917883)</td>\n",
       "      <td>11.553461</td>\n",
       "      <td>48.191788</td>\n",
       "      <td>4</td>\n",
       "    </tr>\n",
       "  </tbody>\n",
       "</table>\n",
       "</div>"
      ],
      "text/plain": [
       "          highway       osmid   ref                       geometry          x  \\\n",
       "0            None  1909719042  None  POINT (11.6278848 48.2470903)  11.627885   \n",
       "1            None  1909719044  None  POINT (11.6266001 48.2472798)  11.626600   \n",
       "2  turning_circle   307757062  None  POINT (11.5525641 48.1912629)  11.552564   \n",
       "3            None   307757067  None  POINT (11.5539391 48.1918998)  11.553939   \n",
       "4            None   307757071  None  POINT (11.5534609 48.1917883)  11.553461   \n",
       "\n",
       "           y  ix  \n",
       "0  48.247090   0  \n",
       "1  48.247280   1  \n",
       "2  48.191263   2  \n",
       "3  48.191900   3  \n",
       "4  48.191788   4  "
      ]
     },
     "execution_count": 6,
     "metadata": {},
     "output_type": "execute_result"
    }
   ],
   "source": [
    "nodes.head()"
   ]
  },
  {
   "cell_type": "code",
   "execution_count": 5,
   "metadata": {},
   "outputs": [
    {
     "name": "stderr",
     "output_type": "stream",
     "text": [
      "c:\\users\\mraf\\anaconda3\\envs\\tensorflow\\lib\\site-packages\\pandana\\network.py:132: FutureWarning: Method .as_matrix will be removed in a future version. Use .values instead.\n",
      "  nodes_df.as_matrix().astype('float32'),\n",
      "c:\\users\\mraf\\anaconda3\\envs\\tensorflow\\lib\\site-packages\\pandana\\network.py:133: FutureWarning: Method .as_matrix will be removed in a future version. Use .values instead.\n",
      "  edges.as_matrix().astype('int32'),\n",
      "c:\\users\\mraf\\anaconda3\\envs\\tensorflow\\lib\\site-packages\\pandana\\network.py:134: FutureWarning: Method .as_matrix will be removed in a future version. Use .values instead.\n",
      "  edges_df[edge_weights.columns].transpose()\n"
     ]
    }
   ],
   "source": [
    "net=pdna.Network(nodes[\"x\"], nodes[\"y\"], test[\"from_ix\"], test[\"to_ix\"],\n",
    "                 test[[\"weight\"]])"
   ]
  },
  {
   "cell_type": "code",
   "execution_count": 6,
   "metadata": {},
   "outputs": [
    {
     "data": {
      "text/plain": [
       "RangeIndex(start=0, stop=145731, step=1)"
      ]
     },
     "execution_count": 6,
     "metadata": {},
     "output_type": "execute_result"
    }
   ],
   "source": [
    "# check number of nodes in the network\n",
    "net.node_ids"
   ]
  },
  {
   "cell_type": "code",
   "execution_count": 7,
   "metadata": {},
   "outputs": [
    {
     "name": "stdout",
     "output_type": "stream",
     "text": [
      "this takes also some minutes\n"
     ]
    }
   ],
   "source": [
    "print('this takes also some minutes')\n",
    "net.precompute(3000)"
   ]
  },
  {
   "cell_type": "markdown",
   "metadata": {},
   "source": [
    "## Step 3: calculate shortest distances to POIs \n",
    "(continue tutorial from here: https://udst.github.io/pandana/tutorial.html)\n"
   ]
  },
  {
   "cell_type": "code",
   "execution_count": 8,
   "metadata": {},
   "outputs": [],
   "source": [
    "net.init_pois(2,10000,10)"
   ]
  },
  {
   "cell_type": "code",
   "execution_count": 12,
   "metadata": {},
   "outputs": [
    {
     "name": "stdout",
     "output_type": "stream",
     "text": [
      "33\n"
     ]
    }
   ],
   "source": [
    "# if not already existing load it from cached data\n",
    "pois_test = pd.read_pickle('pois_coord/hospital_2020-01-30-123302-273052.pkl')\n",
    "print(len(pois_test))\n",
    "# set pois coordinates\n",
    "net.set_pois(amenity, pois_test['lon'], pois_test['lat'])"
   ]
  },
  {
   "cell_type": "markdown",
   "metadata": {},
   "source": [
    "## Step 4: plot the shortest distances as accesibility heatmap"
   ]
  },
  {
   "cell_type": "markdown",
   "metadata": {},
   "source": [
    "## Still need to debug!\n",
    "\n",
    "accessiblity df are the distances from POIs to nearest restaurant\n",
    "\n",
    "need to check why they are mostly = max distance (2000m)"
   ]
  },
  {
   "cell_type": "code",
   "execution_count": 15,
   "metadata": {},
   "outputs": [
    {
     "data": {
      "image/png": "[encoded data removed]",
      "text/plain": [
       "<Figure size 432x288 with 2 Axes>"
      ]
     },
     "metadata": {},
     "output_type": "display_data"
    }
   ],
   "source": [
    "amenity = 'hospital'\n",
    "\n",
    "def plot_nearest_amenity(network,amenity,n, distance, num_pois, bbox):\n",
    "    accessibility = network.nearest_pois(distance=distance, category=amenity, num_pois=num_pois)\n",
    "    \n",
    "    # important to rearrange the coordinates: \n",
    "    network.plot(accessibility[n], [bounds_city[1],bounds_city[0],bounds_city[3],bounds_city[2]])\n",
    "    #ax.set_facecolor('k')\n",
    "    #ax.set_title('Pedestrian accessibility in Casablanca (Walking distance to {}, meters (n = {}))'.format(amenity,n), fontsize=14);\n",
    "\n",
    "plot_nearest_amenity(net,amenity,1, distance=1000, num_pois=3, bbox = bounds_city)"
   ]
  },
  {
   "cell_type": "markdown",
   "metadata": {},
   "source": [
    "### Extensions\n",
    "* compare walking distance to 1st vs 5th nearest POI -> the 5th nearest POI is a better measure of walkability\n",
    "* define and calculate a metric which weights more POI types (school, clinic, restaurant) (as suggested in the article)\n",
    "* extend as in the tutorial to plot time to travel using public transport, road or waling - unclear how this is done exactly: \"let’s build a grid of 250 square meter cells behind our road network, attach each cell to its closest node, and translate the distances into walk, drive or public transit time.\")\n",
    "* extensions from tutorial:\n",
    "    * \"Good quality, locally produced GIS data can be used instead of OSM (and indeed is preferable).\"\n",
    "    * \"An important extension: this method is a great input for property price modelling or building-level predictive models. Hedonic price models assume that, for example, home buyers pay more for a home where they can easily walk to a Starbucks or drive to a hospital. Snapping tax lot boundaries (or OSM building footprints) to the network, the same way as we just attached grid squares to it, allows us to derive this data for any given property.\"\n",
    "    * \"Likewise, machine learning models to predict crime or fire risk require as many attributes as possible to characterize each building’s place in the urban fabric. Rapid network-constrained queries through this kind of framework can answer many questions \""
   ]
  }
 ],
 "metadata": {
  "kernelspec": {
   "display_name": "Python 3",
   "language": "python",
   "name": "python3"
  },
  "language_info": {
   "codemirror_mode": {
    "name": "ipython",
    "version": 3
   },
   "file_extension": ".py",
   "mimetype": "text/x-python",
   "name": "python",
   "nbconvert_exporter": "python",
   "pygments_lexer": "ipython3",
   "version": "3.5.5"
  }
 },
 "nbformat": 4,
 "nbformat_minor": 2
}
