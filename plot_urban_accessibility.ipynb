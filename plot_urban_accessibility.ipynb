{
 "cells": [
  {
   "cell_type": "markdown",
   "metadata": {},
   "source": [
    "### This notebook reproduces the urban accessibility map for Munich, from this tutorial:\n",
    "https://towardsdatascience.com/measuring-pedestrian-accessibility-97900f9e4d56\n"
   ]
  },
  {
   "cell_type": "code",
   "execution_count": null,
   "metadata": {},
   "outputs": [],
   "source": []
  },
  {
   "cell_type": "markdown",
   "metadata": {},
   "source": [
    "## Steps\n",
    "* Step 1: get the POIs for Munich, including GPS coordinates  \n",
    "* Step 2: create Pandana network   \n",
    "* Step 3: assign POIs, compute shortest distances\n",
    "* Step 4: plot the shortest distances on the accesibility heatmap  \n"
   ]
  },
  {
   "cell_type": "code",
   "execution_count": 123,
   "metadata": {},
   "outputs": [],
   "source": [
    "# libraries needed\n",
    "import pandas as pd\n",
    "import numpy as np\n",
    "\n",
    "import pandana as pdna\n",
    "import geopandas as gpd\n",
    "import osmnx as ox\n",
    "\n",
    "from shapely.geometry.polygon import Polygon\n",
    "from shapely.geometry import box\n",
    "\n",
    "from geopy.geocoders import Nominatim\n",
    "from geopy.extra.rate_limiter import RateLimiter\n",
    "\n",
    "# to display plot in the notebook\n",
    "%matplotlib inline\n"
   ]
  },
  {
   "cell_type": "markdown",
   "metadata": {},
   "source": []
  },
  {
   "cell_type": "markdown",
   "metadata": {},
   "source": [
    "## Step 1: get the POIs for Munich"
   ]
  },
  {
   "cell_type": "markdown",
   "metadata": {},
   "source": [
    "Get network map and POIs from the network\n",
    "\n",
    "Use the documentation from here:\n",
    "https://osmnx.readthedocs.io/en/stable/osmnx.html\n"
   ]
  },
  {
   "cell_type": "code",
   "execution_count": 82,
   "metadata": {},
   "outputs": [
    {
     "name": "stdout",
     "output_type": "stream",
     "text": [
      "(11.360777, 48.0616244, 11.7229083, 48.2481162)\n"
     ]
    }
   ],
   "source": [
    "# get a GeoDataFrame from Munich\n",
    "place = ox.gdf_from_place('Munich, Germany')\n",
    "bounds_city = place['geometry'][0].bounds\n",
    "print(bounds_city)\n",
    "# order bounds: 'east','north','south','west'\n",
    "polygon_city = Polygon((list(box(bounds_city[0],bounds_city[1],bounds_city[2],bounds_city[3]).exterior.coords)))"
   ]
  },
  {
   "cell_type": "code",
   "execution_count": 83,
   "metadata": {},
   "outputs": [],
   "source": [
    "# set POIs of interest\n",
    "amenities = ['restaurant']\n",
    "# other opions:\n",
    "# 'hospital', 'clinic','cafe','school','bank','pharmacy','park']"
   ]
  },
  {
   "cell_type": "code",
   "execution_count": 84,
   "metadata": {},
   "outputs": [
    {
     "name": "stdout",
     "output_type": "stream",
     "text": [
      "Number of POIs\n",
      "2309\n",
      "             amenity                       name\n",
      "34034075  restaurant         Zum Goldenen Stern\n",
      "34072038  restaurant        Franziskaner Garten\n",
      "59933810  restaurant                    Goloseo\n",
      "59933811  restaurant  Bistro Trattoria La Giara\n",
      "59934326  restaurant                   L'angolo\n"
     ]
    }
   ],
   "source": [
    "# get POIs from Polygon\n",
    "pois = ox.pois.pois_from_polygon(polygon_city, amenities)\n",
    "\n",
    "print('Number of POIs')\n",
    "print(len(pois))\n",
    "print(pois[['amenity','name']].head())\n",
    "# a long list of all the info about the POIs: (maybe useful in the future)\n",
    "# print(list(pois.columns))"
   ]
  },
  {
   "cell_type": "code",
   "execution_count": null,
   "metadata": {},
   "outputs": [],
   "source": [
    "'''\n",
    "# If we want to plot the network:\n",
    "# city graph\n",
    "G = ox.graph_from_address('Munich, Germany')\n",
    "ox.plot_graph(G)\n",
    "'''"
   ]
  },
  {
   "cell_type": "code",
   "execution_count": 86,
   "metadata": {},
   "outputs": [
    {
     "data": {
      "image/png": "[encoded data removed]",
      "text/plain": [
       "<Figure size 432x288 with 1 Axes>"
      ]
     },
     "metadata": {},
     "output_type": "display_data"
    }
   ],
   "source": [
    "\n",
    "'''\n",
    "# IF we want to plot the POIs on the map:\n",
    "import matplotlib.pyplot as plt\n",
    "world = geopandas.read_file(geopandas.datasets.get_path('naturalearth_lowres'))\n",
    "\n",
    "# We restrict to South America.\n",
    "ax = world[world.continent == 'Europe'].plot(\n",
    "    color='white', edgecolor='black')\n",
    "\n",
    "# We can now plot our ``GeoDataFrame``.\n",
    "pois.plot(ax=ax, color='red')\n",
    "plt.show()\n",
    "'''"
   ]
  },
  {
   "cell_type": "markdown",
   "metadata": {},
   "source": [
    "Now we need to transform the addresses in GPS coordinates, because they are not available in the POIs data frame"
   ]
  },
  {
   "cell_type": "markdown",
   "metadata": {},
   "source": [
    "### First test geocoding works with Nominatim (number of requests is limited)\n",
    "If the next cell fails, a geocoding alternative to extract the coordinates from POI names may be needed.\n",
    "A list of alternatives is here: https://wiki.openstreetmap.org/wiki/Search_engines  \n",
    "Failed attempts (adddresses not recognized): \n",
    "* use Nominatim rate_limiter.RateLimiter to introduce delays and retries \n",
    "* geocoder Python: https://geocoder.readthedocs.io/  \n",
    "* overpass API: https://wiki.openstreetmap.org/wiki/Overpass_API/Python_Wrapper  \n",
    "Code not working on POI addersses   \n",
    "import overpass  \n",
    "api = overpass.API()  \n",
    "response = api.get('node[\"name\"=\"6 Gartenstadtstraße München DE\"]')  \n",
    "response['features'][0]['geometry']['coordinates'][0]  \n",
    "  \n",
    "Working but need to call from Python:  \n",
    "* http://photon.komoot.de/  \n",
    "* https://www.ideeslibres.org/GeoCheck/  "
   ]
  },
  {
   "cell_type": "code",
   "execution_count": 85,
   "metadata": {},
   "outputs": [
    {
     "name": "stdout",
     "output_type": "stream",
     "text": [
      "(48.1169479, 11.6702206)\n"
     ]
    }
   ],
   "source": [
    "# basic test we can encode a location by address:\n",
    "geolocator = Nominatim(user_agent=\"y\")\n",
    "location = geolocator.geocode(\"6 Gartenstadtstraße München DE\")\n",
    "print((location.latitude, location.longitude))"
   ]
  },
  {
   "cell_type": "code",
   "execution_count": 91,
   "metadata": {},
   "outputs": [
    {
     "name": "stdout",
     "output_type": "stream",
     "text": [
      "0.03601193428039551\n"
     ]
    }
   ],
   "source": [
    "import time\n",
    "t1 = time.time()\n",
    "\n",
    "pois['complete address'] = pois['addr:housenumber'] + ' ' + pois['addr:street'] + ' ' + pois['addr:city'] + ' ' + pois['addr:country']\n",
    "\n",
    "# this takes long for all POIs (several minutes or more) (alternatively take less POIS\n",
    "# limited to first 100 points for now\n",
    "pois_test = pois.reset_index().loc[:100].copy()\n",
    "def fct(x):\n",
    "    try:\n",
    "        location = geolocator.geocode(x)\n",
    "    except:\n",
    "        return np.nan\n",
    "    return location\n",
    "t2 = time.time()\n",
    "pois_test['loc'] = pois_test['complete address'].apply(lambda x: fct(x))\n",
    "print('time geocoding')\n",
    "print(t2-t1)\n"
   ]
  },
  {
   "cell_type": "code",
   "execution_count": 98,
   "metadata": {},
   "outputs": [
    {
     "data": {
      "text/plain": [
       "'2020-01-29-153629-253925'"
      ]
     },
     "execution_count": 98,
     "metadata": {},
     "output_type": "execute_result"
    }
   ],
   "source": [
    "import datetime as dt\n",
    "str(dt.datetime.now()).replace(':','').replace(' ','-').replace('.','-')"
   ]
  },
  {
   "cell_type": "code",
   "execution_count": 100,
   "metadata": {},
   "outputs": [
    {
     "name": "stdout",
     "output_type": "stream",
     "text": [
      "      index FIXME access addr:city addr:country addr:housename  \\\n",
      "0  34034075   NaN    NaN   München           DE            NaN   \n",
      "1  34072038   NaN    NaN   München           DE            NaN   \n",
      "2  59933810   NaN    NaN       NaN          NaN            NaN   \n",
      "3  59933811   NaN    NaN       NaN          NaN            NaN   \n",
      "4  59934326   NaN    NaN       NaN          NaN            NaN   \n",
      "\n",
      "  addr:housenumber addr:postcode addr:state        addr:street  ...  \\\n",
      "0                6         81825        NaN  Gartenstadtstraße  ...   \n",
      "1               45         81827        NaN  Friedenspromenade  ...   \n",
      "2              NaN           NaN        NaN                NaN  ...   \n",
      "3              NaN           NaN        NaN                NaN  ...   \n",
      "4              NaN           NaN        NaN                NaN  ...   \n",
      "\n",
      "  roof:levels roof:material roof:shape room rooms service_times website2  \\\n",
      "0         NaN           NaN        NaN  NaN   NaN           NaN      NaN   \n",
      "1         NaN           NaN        NaN  NaN   NaN           NaN      NaN   \n",
      "2         NaN           NaN        NaN  NaN   NaN           NaN      NaN   \n",
      "3         NaN           NaN        NaN  NaN   NaN           NaN      NaN   \n",
      "4         NaN           NaN        NaN  NaN   NaN           NaN      NaN   \n",
      "\n",
      "  website:2008--2016-06-17                 complete address  \\\n",
      "0                      NaN   6 Gartenstadtstraße München DE   \n",
      "1                      NaN  45 Friedenspromenade München DE   \n",
      "2                      NaN                              NaN   \n",
      "3                      NaN                              NaN   \n",
      "4                      NaN                              NaN   \n",
      "\n",
      "                                                 loc  \n",
      "0  (Zum Goldenen Stern, 6, Gartenstadtstraße, Neu...  \n",
      "1  (Franziskaner Garten, 45, Friedenspromenade, G...  \n",
      "2  (Nanno, Comunità della Val di Non, Provincia d...  \n",
      "3  (Nanno, Comunità della Val di Non, Provincia d...  \n",
      "4  (Nanno, Comunità della Val di Non, Provincia d...  \n",
      "\n",
      "[5 rows x 280 columns]\n"
     ]
    }
   ],
   "source": [
    "print(pois_test.head())\n",
    "\n",
    "# always cache geocoded addresses because there a limit per day: \n",
    "pois_test.to_pickle('pois_coord/' + str(dt.datetime.now()).replace(':','').replace(' ','-').replace('.','-') + '.pkl')"
   ]
  },
  {
   "cell_type": "code",
   "execution_count": 118,
   "metadata": {},
   "outputs": [],
   "source": [
    "pois_test = pois_test.dropna(subset=['loc']).reset_index()"
   ]
  },
  {
   "cell_type": "code",
   "execution_count": 120,
   "metadata": {},
   "outputs": [],
   "source": [
    "# extract coordinates\n",
    "pois_test['lat'] = pois_test['loc'].apply(lambda x:x.latitude)\n",
    "pois_test['lon'] = pois_test['loc'].apply(lambda x:x.longitude)\n",
    "pois_test.loc[pois_test['complete address'].isnull(),'lat'] = np.NaN\n",
    "pois_test.loc[pois_test['complete address'].isnull(),'lon'] = np.NaN\n",
    "pois_test = pois_test[['name','lat','lon','complete address']].dropna()"
   ]
  },
  {
   "cell_type": "code",
   "execution_count": 133,
   "metadata": {},
   "outputs": [
    {
     "data": {
      "text/html": [
       "<div>\n",
       "<style scoped>\n",
       "    .dataframe tbody tr th:only-of-type {\n",
       "        vertical-align: middle;\n",
       "    }\n",
       "\n",
       "    .dataframe tbody tr th {\n",
       "        vertical-align: top;\n",
       "    }\n",
       "\n",
       "    .dataframe thead th {\n",
       "        text-align: right;\n",
       "    }\n",
       "</style>\n",
       "<table border=\"1\" class=\"dataframe\">\n",
       "  <thead>\n",
       "    <tr style=\"text-align: right;\">\n",
       "      <th></th>\n",
       "      <th>name</th>\n",
       "      <th>lat</th>\n",
       "      <th>lon</th>\n",
       "      <th>complete address</th>\n",
       "    </tr>\n",
       "  </thead>\n",
       "  <tbody>\n",
       "    <tr>\n",
       "      <th>0</th>\n",
       "      <td>Zum Goldenen Stern</td>\n",
       "      <td>48.116948</td>\n",
       "      <td>11.670221</td>\n",
       "      <td>6 Gartenstadtstraße München DE</td>\n",
       "    </tr>\n",
       "    <tr>\n",
       "      <th>1</th>\n",
       "      <td>Franziskaner Garten</td>\n",
       "      <td>48.109315</td>\n",
       "      <td>11.670722</td>\n",
       "      <td>45 Friedenspromenade München DE</td>\n",
       "    </tr>\n",
       "    <tr>\n",
       "      <th>6</th>\n",
       "      <td>Ratskeller</td>\n",
       "      <td>48.137788</td>\n",
       "      <td>11.575344</td>\n",
       "      <td>8 Marienplatz München DE</td>\n",
       "    </tr>\n",
       "    <tr>\n",
       "      <th>7</th>\n",
       "      <td>Das Wirtshaus am Rathausplatz</td>\n",
       "      <td>48.065318</td>\n",
       "      <td>11.665420</td>\n",
       "      <td>2 Rathausplatz Ottobrunn DE</td>\n",
       "    </tr>\n",
       "    <tr>\n",
       "      <th>8</th>\n",
       "      <td>Ristorante Pattio D'oro</td>\n",
       "      <td>48.065590</td>\n",
       "      <td>11.662586</td>\n",
       "      <td>10 Putzbrunner Straße Ottobrunn DE</td>\n",
       "    </tr>\n",
       "  </tbody>\n",
       "</table>\n",
       "</div>"
      ],
      "text/plain": [
       "                            name        lat        lon  \\\n",
       "0             Zum Goldenen Stern  48.116948  11.670221   \n",
       "1            Franziskaner Garten  48.109315  11.670722   \n",
       "6                     Ratskeller  48.137788  11.575344   \n",
       "7  Das Wirtshaus am Rathausplatz  48.065318  11.665420   \n",
       "8        Ristorante Pattio D'oro  48.065590  11.662586   \n",
       "\n",
       "                     complete address  \n",
       "0      6 Gartenstadtstraße München DE  \n",
       "1     45 Friedenspromenade München DE  \n",
       "6            8 Marienplatz München DE  \n",
       "7         2 Rathausplatz Ottobrunn DE  \n",
       "8  10 Putzbrunner Straße Ottobrunn DE  "
      ]
     },
     "execution_count": 133,
     "metadata": {},
     "output_type": "execute_result"
    }
   ],
   "source": [
    "# check coordinates fine:\n",
    "pois_test.head()"
   ]
  },
  {
   "cell_type": "markdown",
   "metadata": {},
   "source": [
    "Keep the POIs for later, next create the Pandana network we want to compute the shortest paths on"
   ]
  },
  {
   "cell_type": "markdown",
   "metadata": {},
   "source": [
    "## Step 2: create Pandana network, assign POIs, compute shortest distances"
   ]
  },
  {
   "cell_type": "markdown",
   "metadata": {},
   "source": [
    "Create Pandana network, precomute, initiatilize, set POIs and calculate nearest POIs as in the tutorial:\n",
    "https://udst.github.io/pandana/tutorial.html\n",
    "\n",
    "First need to transform the nodes and edges from the shapefile to match the Pandana format: \n",
    "* extract x,y columns for coordinates\n",
    "* extract weight column of edges\n",
    "* make the nodes index int, from the osmid, by reseting the index of nodes and merging\n"
   ]
  },
  {
   "cell_type": "markdown",
   "metadata": {},
   "source": [
    "### only run the next cell if no shape file already available"
   ]
  },
  {
   "cell_type": "code",
   "execution_count": 2,
   "metadata": {},
   "outputs": [],
   "source": [
    "# reorder the bounds_city to match the funciton description: \n",
    "# from longitude min, latitude min, longitude max, latitude max to\n",
    "# north, south, east, west\n",
    "\n",
    "# this takes long! several minutes or longer\n",
    "G = ox.graph_from_bbox(bounds_city[3], bounds_city[1], bounds_city[2], bounds_city[0], network_type='walk')\n",
    "# get road network and save as .shp\n",
    "ox.save_graph_shapefile(G, filename='sample', folder='data', encoding='utf-8')"
   ]
  },
  {
   "cell_type": "markdown",
   "metadata": {},
   "source": [
    "### from here on run cells normally"
   ]
  },
  {
   "cell_type": "code",
   "execution_count": 124,
   "metadata": {},
   "outputs": [],
   "source": [
    "nodes = gpd.read_file('data/sample/nodes/nodes.shp')\n",
    "edges = gpd.read_file('data/sample/edges/edges.shp')"
   ]
  },
  {
   "cell_type": "code",
   "execution_count": 125,
   "metadata": {},
   "outputs": [],
   "source": [
    "nodes['x'] = nodes['geometry'].apply(lambda x:x.coords[0][0])\n",
    "nodes['y'] = nodes['geometry'].apply(lambda x:x.coords[0][1])\n",
    "edges['weight'] = edges['length'].astype(float)\n",
    "nodes['x'] = nodes['x'].astype(float)\n",
    "nodes['y'] = nodes['y'].astype(float)"
   ]
  },
  {
   "cell_type": "code",
   "execution_count": 126,
   "metadata": {},
   "outputs": [],
   "source": [
    "nodes['ix']=nodes.index\n",
    "test  = pd.merge(nodes[['osmid','ix']].rename(columns={'osmid':'from','ix':'from_ix'}),edges,on='from')\n",
    "test  = pd.merge(nodes[['osmid','ix']].rename(columns={'osmid':'to','ix':'to_ix'}),test,on='to')"
   ]
  },
  {
   "cell_type": "code",
   "execution_count": 127,
   "metadata": {},
   "outputs": [
    {
     "name": "stderr",
     "output_type": "stream",
     "text": [
      "c:\\users\\mraf\\anaconda3\\envs\\tensorflow\\lib\\site-packages\\pandana\\network.py:132: FutureWarning: Method .as_matrix will be removed in a future version. Use .values instead.\n",
      "  nodes_df.as_matrix().astype('float32'),\n",
      "c:\\users\\mraf\\anaconda3\\envs\\tensorflow\\lib\\site-packages\\pandana\\network.py:133: FutureWarning: Method .as_matrix will be removed in a future version. Use .values instead.\n",
      "  edges.as_matrix().astype('int32'),\n",
      "c:\\users\\mraf\\anaconda3\\envs\\tensorflow\\lib\\site-packages\\pandana\\network.py:134: FutureWarning: Method .as_matrix will be removed in a future version. Use .values instead.\n",
      "  edges_df[edge_weights.columns].transpose()\n"
     ]
    }
   ],
   "source": [
    "net=pdna.Network(nodes[\"x\"], nodes[\"y\"], test[\"from_ix\"], test[\"to_ix\"],\n",
    "                 test[[\"weight\"]])"
   ]
  },
  {
   "cell_type": "markdown",
   "metadata": {},
   "source": [
    "## Step 3: calculate shortest distances to POIs \n",
    "(continue tutorial from here: https://udst.github.io/pandana/tutorial.html)\n"
   ]
  },
  {
   "cell_type": "code",
   "execution_count": 128,
   "metadata": {},
   "outputs": [
    {
     "data": {
      "text/plain": [
       "RangeIndex(start=0, stop=145731, step=1)"
      ]
     },
     "execution_count": 128,
     "metadata": {},
     "output_type": "execute_result"
    }
   ],
   "source": [
    "# check number of nodes in the network\n",
    "net.node_ids"
   ]
  },
  {
   "cell_type": "code",
   "execution_count": 129,
   "metadata": {},
   "outputs": [],
   "source": [
    "# this takes also some minutes\n",
    "net.precompute(3000)"
   ]
  },
  {
   "cell_type": "code",
   "execution_count": 130,
   "metadata": {},
   "outputs": [],
   "source": [
    "net.init_pois(1,2000,10)"
   ]
  },
  {
   "cell_type": "code",
   "execution_count": 131,
   "metadata": {},
   "outputs": [],
   "source": [
    "net.set_pois(\"restaurants\", pois_test['lon'], pois_test['lat'])"
   ]
  },
  {
   "cell_type": "markdown",
   "metadata": {},
   "source": [
    "## Step 4: plot the shortest distances as accesibility heatmap"
   ]
  },
  {
   "cell_type": "markdown",
   "metadata": {},
   "source": [
    "## Still need to debug!\n",
    "\n",
    "accessiblity df are the distances from POIs to nearest restaurant\n",
    "\n",
    "need to check why they are mostly = max distance (2000m)"
   ]
  },
  {
   "cell_type": "code",
   "execution_count": 134,
   "metadata": {},
   "outputs": [
    {
     "name": "stdout",
     "output_type": "stream",
     "text": [
      "                  1\n",
      "0       2000.000000\n",
      "1       2000.000000\n",
      "2       2000.000000\n",
      "3       2000.000000\n",
      "4       2000.000000\n",
      "5        812.453979\n",
      "6       2000.000000\n",
      "7       2000.000000\n",
      "8       2000.000000\n",
      "9       2000.000000\n",
      "10      2000.000000\n",
      "11      2000.000000\n",
      "12      2000.000000\n",
      "13      2000.000000\n",
      "14      2000.000000\n",
      "15      2000.000000\n",
      "16      2000.000000\n",
      "17      2000.000000\n",
      "18      2000.000000\n",
      "19      2000.000000\n",
      "20      2000.000000\n",
      "21      1761.202026\n",
      "22      2000.000000\n",
      "23      2000.000000\n",
      "24      1715.571045\n",
      "25      2000.000000\n",
      "26      2000.000000\n",
      "27      1485.468018\n",
      "28      2000.000000\n",
      "29      1741.991943\n",
      "...             ...\n",
      "145701  2000.000000\n",
      "145702  2000.000000\n",
      "145703  2000.000000\n",
      "145704  1145.780029\n",
      "145705  2000.000000\n",
      "145706  2000.000000\n",
      "145707  2000.000000\n",
      "145708  2000.000000\n",
      "145709  2000.000000\n",
      "145710  2000.000000\n",
      "145711  2000.000000\n",
      "145712  2000.000000\n",
      "145713  2000.000000\n",
      "145714  2000.000000\n",
      "145715  1144.676025\n",
      "145716  2000.000000\n",
      "145717  1008.299988\n",
      "145718  2000.000000\n",
      "145719  2000.000000\n",
      "145720  1019.379028\n",
      "145721  2000.000000\n",
      "145722   987.562012\n",
      "145723  2000.000000\n",
      "145724  2000.000000\n",
      "145725  2000.000000\n",
      "145726  2000.000000\n",
      "145727  2000.000000\n",
      "145728   287.708008\n",
      "145729  2000.000000\n",
      "145730  1014.853027\n",
      "\n",
      "[145731 rows x 1 columns]\n"
     ]
    }
   ],
   "source": [
    "# calculate distances \n",
    "\n",
    "#def plot_nearest_amenity(amenity,n,bbox=bbox):\n",
    "distance=2000\n",
    "num_pois = 1\n",
    "amenity = 'restaurants'\n",
    "n = 1\n",
    "\n",
    "accessibility = net.nearest_pois(distance=distance, category=amenity, num_pois=num_pois)\n",
    "print(accessibility)"
   ]
  },
  {
   "cell_type": "code",
   "execution_count": 136,
   "metadata": {},
   "outputs": [
    {
     "data": {
      "text/plain": [
       "(<mpl_toolkits.basemap.Basemap at 0x205e878bbe0>,\n",
       " <Figure size 432x288 with 2 Axes>,\n",
       " <matplotlib.axes._subplots.AxesSubplot at 0x205e877b160>)"
      ]
     },
     "execution_count": 136,
     "metadata": {},
     "output_type": "execute_result"
    },
    {
     "data": {
      "image/png": "[encoded data removed]",
      "text/plain": [
       "<Figure size 432x288 with 2 Axes>"
      ]
     },
     "metadata": {},
     "output_type": "display_data"
    }
   ],
   "source": [
    "#print(box_muc)\n",
    "#fig, ax = \n",
    "# net.plot(accessibility[n], bounds_city)\n",
    "# important to rearrange the coordinates: \n",
    "net.plot(accessibility[n], [bounds_city[1],bounds_city[0],bounds_city[3],bounds_city[2]])\n",
    "#ax.set_facecolor('k')\n",
    "#ax.set_title('Pedestrian accessibility in Casablanca (Walking distance to {}, meters (n = {}))'.format(amenity,n), fontsize=14)\n",
    " "
   ]
  }
 ],
 "metadata": {
  "kernelspec": {
   "display_name": "Python 3",
   "language": "python",
   "name": "python3"
  },
  "language_info": {
   "codemirror_mode": {
    "name": "ipython",
    "version": 3
   },
   "file_extension": ".py",
   "mimetype": "text/x-python",
   "name": "python",
   "nbconvert_exporter": "python",
   "pygments_lexer": "ipython3",
   "version": "3.5.5"
  }
 },
 "nbformat": 4,
 "nbformat_minor": 2
}
